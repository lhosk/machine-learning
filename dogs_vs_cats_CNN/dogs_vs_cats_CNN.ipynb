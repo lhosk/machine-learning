{
  "cells": [
    {
      "cell_type": "markdown",
      "metadata": {
        "id": "BM--Rm-qzQHC"
      },
      "source": [
        "#**Building your own CNN Image Classifier (Lucas Hoskin)**"
      ]
    },
    {
      "cell_type": "markdown",
      "metadata": {
        "id": "msO7xWkXzhfc"
      },
      "source": [
        "## Setting up the data"
      ]
    },
    {
      "cell_type": "markdown",
      "metadata": {
        "id": "gmmYwpxDzkMe"
      },
      "source": [
        "#### Mounting Drive and Importing Files and Libraries"
      ]
    },
    {
      "cell_type": "code",
      "execution_count": 3,
      "metadata": {
        "colab": {
          "base_uri": "https://localhost:8080/",
          "height": 0
        },
        "id": "m7B0Grqvqxf5",
        "outputId": "7d543d80-aadc-42cc-c6f9-4152d079e4db"
      },
      "outputs": [
        {
          "name": "stdout",
          "output_type": "stream",
          "text": [
            "Drive already mounted at /content/drive; to attempt to forcibly remount, call drive.mount(\"/content/drive\", force_remount=True).\n"
          ]
        }
      ],
      "source": [
        "# Mounting drive\n",
        "from google.colab import drive\n",
        "drive.mount('/content/drive')"
      ]
    },
    {
      "cell_type": "code",
      "execution_count": 4,
      "metadata": {
        "colab": {
          "base_uri": "https://localhost:8080/",
          "height": 0
        },
        "id": "tEqS1KDo26BU",
        "outputId": "82da1fae-5499-47f5-fe98-d77eea685fc2"
      },
      "outputs": [
        {
          "name": "stdout",
          "output_type": "stream",
          "text": [
            "Requirement already satisfied: tensorflow in /usr/local/lib/python3.12/dist-packages (2.19.0)\n",
            "Requirement already satisfied: absl-py>=1.0.0 in /usr/local/lib/python3.12/dist-packages (from tensorflow) (1.4.0)\n",
            "Requirement already satisfied: astunparse>=1.6.0 in /usr/local/lib/python3.12/dist-packages (from tensorflow) (1.6.3)\n",
            "Requirement already satisfied: flatbuffers>=24.3.25 in /usr/local/lib/python3.12/dist-packages (from tensorflow) (25.2.10)\n",
            "Requirement already satisfied: gast!=0.5.0,!=0.5.1,!=0.5.2,>=0.2.1 in /usr/local/lib/python3.12/dist-packages (from tensorflow) (0.6.0)\n",
            "Requirement already satisfied: google-pasta>=0.1.1 in /usr/local/lib/python3.12/dist-packages (from tensorflow) (0.2.0)\n",
            "Requirement already satisfied: libclang>=13.0.0 in /usr/local/lib/python3.12/dist-packages (from tensorflow) (18.1.1)\n",
            "Requirement already satisfied: opt-einsum>=2.3.2 in /usr/local/lib/python3.12/dist-packages (from tensorflow) (3.4.0)\n",
            "Requirement already satisfied: packaging in /usr/local/lib/python3.12/dist-packages (from tensorflow) (25.0)\n",
            "Requirement already satisfied: protobuf!=4.21.0,!=4.21.1,!=4.21.2,!=4.21.3,!=4.21.4,!=4.21.5,<6.0.0dev,>=3.20.3 in /usr/local/lib/python3.12/dist-packages (from tensorflow) (5.29.5)\n",
            "Requirement already satisfied: requests<3,>=2.21.0 in /usr/local/lib/python3.12/dist-packages (from tensorflow) (2.32.4)\n",
            "Requirement already satisfied: setuptools in /usr/local/lib/python3.12/dist-packages (from tensorflow) (75.2.0)\n",
            "Requirement already satisfied: six>=1.12.0 in /usr/local/lib/python3.12/dist-packages (from tensorflow) (1.17.0)\n",
            "Requirement already satisfied: termcolor>=1.1.0 in /usr/local/lib/python3.12/dist-packages (from tensorflow) (3.1.0)\n",
            "Requirement already satisfied: typing-extensions>=3.6.6 in /usr/local/lib/python3.12/dist-packages (from tensorflow) (4.15.0)\n",
            "Requirement already satisfied: wrapt>=1.11.0 in /usr/local/lib/python3.12/dist-packages (from tensorflow) (1.17.3)\n",
            "Requirement already satisfied: grpcio<2.0,>=1.24.3 in /usr/local/lib/python3.12/dist-packages (from tensorflow) (1.75.0)\n",
            "Requirement already satisfied: tensorboard~=2.19.0 in /usr/local/lib/python3.12/dist-packages (from tensorflow) (2.19.0)\n",
            "Requirement already satisfied: keras>=3.5.0 in /usr/local/lib/python3.12/dist-packages (from tensorflow) (3.10.0)\n",
            "Requirement already satisfied: numpy<2.2.0,>=1.26.0 in /usr/local/lib/python3.12/dist-packages (from tensorflow) (2.0.2)\n",
            "Requirement already satisfied: h5py>=3.11.0 in /usr/local/lib/python3.12/dist-packages (from tensorflow) (3.14.0)\n",
            "Requirement already satisfied: ml-dtypes<1.0.0,>=0.5.1 in /usr/local/lib/python3.12/dist-packages (from tensorflow) (0.5.3)\n",
            "Requirement already satisfied: wheel<1.0,>=0.23.0 in /usr/local/lib/python3.12/dist-packages (from astunparse>=1.6.0->tensorflow) (0.45.1)\n",
            "Requirement already satisfied: rich in /usr/local/lib/python3.12/dist-packages (from keras>=3.5.0->tensorflow) (13.9.4)\n",
            "Requirement already satisfied: namex in /usr/local/lib/python3.12/dist-packages (from keras>=3.5.0->tensorflow) (0.1.0)\n",
            "Requirement already satisfied: optree in /usr/local/lib/python3.12/dist-packages (from keras>=3.5.0->tensorflow) (0.17.0)\n",
            "Requirement already satisfied: charset_normalizer<4,>=2 in /usr/local/lib/python3.12/dist-packages (from requests<3,>=2.21.0->tensorflow) (3.4.3)\n",
            "Requirement already satisfied: idna<4,>=2.5 in /usr/local/lib/python3.12/dist-packages (from requests<3,>=2.21.0->tensorflow) (3.10)\n",
            "Requirement already satisfied: urllib3<3,>=1.21.1 in /usr/local/lib/python3.12/dist-packages (from requests<3,>=2.21.0->tensorflow) (2.5.0)\n",
            "Requirement already satisfied: certifi>=2017.4.17 in /usr/local/lib/python3.12/dist-packages (from requests<3,>=2.21.0->tensorflow) (2025.8.3)\n",
            "Requirement already satisfied: markdown>=2.6.8 in /usr/local/lib/python3.12/dist-packages (from tensorboard~=2.19.0->tensorflow) (3.9)\n",
            "Requirement already satisfied: tensorboard-data-server<0.8.0,>=0.7.0 in /usr/local/lib/python3.12/dist-packages (from tensorboard~=2.19.0->tensorflow) (0.7.2)\n",
            "Requirement already satisfied: werkzeug>=1.0.1 in /usr/local/lib/python3.12/dist-packages (from tensorboard~=2.19.0->tensorflow) (3.1.3)\n",
            "Requirement already satisfied: MarkupSafe>=2.1.1 in /usr/local/lib/python3.12/dist-packages (from werkzeug>=1.0.1->tensorboard~=2.19.0->tensorflow) (3.0.2)\n",
            "Requirement already satisfied: markdown-it-py>=2.2.0 in /usr/local/lib/python3.12/dist-packages (from rich->keras>=3.5.0->tensorflow) (4.0.0)\n",
            "Requirement already satisfied: pygments<3.0.0,>=2.13.0 in /usr/local/lib/python3.12/dist-packages (from rich->keras>=3.5.0->tensorflow) (2.19.2)\n",
            "Requirement already satisfied: mdurl~=0.1 in /usr/local/lib/python3.12/dist-packages (from markdown-it-py>=2.2.0->rich->keras>=3.5.0->tensorflow) (0.1.2)\n"
          ]
        }
      ],
      "source": [
        "# Import Libraries\n",
        "import glob\n",
        "import matplotlib.pyplot as plt\n",
        "import numpy as np\n",
        "import os\n",
        "import pandas as pd\n",
        "import pickle\n",
        "import shutil\n",
        "!pip install tensorflow\n",
        "import tensorflow as tf\n",
        "# from tensorflow import keras\n",
        "from PIL import Image\n",
        "from sklearn.model_selection import train_test_split\n",
        "from tensorflow.keras import layers, models\n",
        "from tensorflow.keras.applications import MobileNetV2\n",
        "from tensorflow.keras.applications.mobilenet_v2 import preprocess_input\n",
        "from tensorflow.keras.callbacks import CSVLogger\n",
        "from tensorflow.keras.preprocessing.image import ImageDataGenerator"
      ]
    },
    {
      "cell_type": "markdown",
      "metadata": {
        "id": "LVdNLJr51Eu_"
      },
      "source": [
        "#### Loading Dataset"
      ]
    },
    {
      "cell_type": "code",
      "execution_count": 1,
      "metadata": {
        "id": "lwHY4GQ60ZKj"
      },
      "outputs": [],
      "source": [
        "# Loading data set\n",
        "assignment_directory = '/content/drive/My Drive/2025 Fall/Applied AI (ECGR 6119)/cnnProject/Assignment1_lhoskin/'\n",
        "train_directory = assignment_directory + 'train/'"
      ]
    },
    {
      "cell_type": "markdown",
      "metadata": {
        "id": "qynFZ4U5IZ4o"
      },
      "source": [
        "#### Convert Images to Correct Resolution and RGB"
      ]
    },
    {
      "cell_type": "code",
      "execution_count": null,
      "metadata": {
        "id": "CEXrAWUNM7Xj"
      },
      "outputs": [],
      "source": [
        "# I should've just saved the images to variables rather than rewriting...\n",
        "\n",
        "input_directory = train_directory\n",
        "output_directory = os.path.join(assignment_directory, \"preprocessed_train/\")\n",
        "\n",
        "# Make sure the folder exists\n",
        "os.makedirs(output_directory, exist_ok=True)\n",
        "\n",
        "image_files = sorted(glob.glob(os.path.join(input_directory, \"*.jpg\")))\n",
        "\n",
        "# Process each file that hasn't been processed\n",
        "for file in image_files:\n",
        "  original_name = os.path.basename(file)\n",
        "  out_path = os.path.join(output_directory, original_name)\n",
        "\n",
        "  # Skip if already exists\n",
        "  if not os.path.exists(out_path):\n",
        "    # Convert to RGB\n",
        "    img = Image.open(file).convert(\"RGB\")\n",
        "    # Convert to Resolution (224x224)\n",
        "    img = img.resize((224, 224))\n",
        "    img.save(out_path)\n"
      ]
    },
    {
      "cell_type": "code",
      "execution_count": null,
      "metadata": {
        "colab": {
          "base_uri": "https://localhost:8080/"
        },
        "id": "DAK45kd_Z1xW",
        "outputId": "a2c21836-fe83-4dc6-a6b6-59d7dde1748c"
      },
      "outputs": [
        {
          "name": "stdout",
          "output_type": "stream",
          "text": [
            "25000\n"
          ]
        }
      ],
      "source": [
        "# Check how many files have been processed\n",
        "print(len(os.listdir(output_directory)))"
      ]
    },
    {
      "cell_type": "markdown",
      "metadata": {
        "id": "zGjyCpXFWz6b"
      },
      "source": [
        "#### Splitting the data into a 75/25 train/test respectively"
      ]
    },
    {
      "cell_type": "code",
      "execution_count": 6,
      "metadata": {
        "colab": {
          "base_uri": "https://localhost:8080/",
          "height": 0
        },
        "id": "BlGeos9YW1b3",
        "outputId": "8933ed44-0315-4e8e-96d2-25a8a07b3f00"
      },
      "outputs": [
        {
          "name": "stdout",
          "output_type": "stream",
          "text": [
            "Split Data Exists\n"
          ]
        }
      ],
      "source": [
        "split_path = assignment_directory + 'split_data.pkl'\n",
        "\n",
        "# If data has already been split, download the data\n",
        "# Else, define the 75/25 split\n",
        "if os.path.exists(split_path):\n",
        "  print(\"Split Data Exists\")\n",
        "  with open(split_path, \"rb\") as split_file:\n",
        "    data = pickle.load(split_file)\n",
        "\n",
        "  train_cat = data[\"train_cat\"]\n",
        "  test_cat  = data[\"test_cat\"]\n",
        "  train_dog = data[\"train_dog\"]\n",
        "  test_dog  = data[\"test_dog\"]\n",
        "# else:\n",
        "#   print(\"Split Data Is Being Made\")\n",
        "#   # Define cat and dog images\n",
        "#   images_cat = glob.glob(output_directory + 'cat.*.jpg')\n",
        "#   images_dog = glob.glob(output_directory + 'dog.*.jpg')\n",
        "\n",
        "#   # Split the data into 75% train and 25% test defined by cat and dog each\n",
        "#   train_cat, test_cat = train_test_split(images_cat, test_size=0.25, random_state=1)\n",
        "#   train_dog, test_dog = train_test_split(images_dog, test_size=0.25, random_state=1)\n",
        "\n",
        "#   split_dictionary = {\n",
        "#     \"train_cat\": train_cat,\n",
        "#     \"test_cat\": test_cat,\n",
        "#     \"train_dog\": train_dog,\n",
        "#     \"test_dog\": test_dog\n",
        "#   }\n",
        "\n",
        "#   with open(split_path, \"wb\") as split_file:\n",
        "#     pickle.dump(split_dictionary, split_file)\n",
        "\n",
        "train_images = train_cat + train_dog\n",
        "test_images = test_cat + test_dog"
      ]
    },
    {
      "cell_type": "code",
      "execution_count": 7,
      "metadata": {
        "colab": {
          "base_uri": "https://localhost:8080/",
          "height": 0
        },
        "id": "Tn7-hthdW_P4",
        "outputId": "c524169b-392e-4e91-a900-d908115a4193"
      },
      "outputs": [
        {
          "name": "stdout",
          "output_type": "stream",
          "text": [
            "Train cats: 9375, Test cats: 3125\n",
            "Train dogs: 9375, Test dogs: 3125\n",
            "Train total: 18750, Test total: 6250\n"
          ]
        }
      ],
      "source": [
        "# Check sizes of training and testing data\n",
        "print(f\"Train cats: {len(train_cat)}, Test cats: {len(test_cat)}\")\n",
        "print(f\"Train dogs: {len(train_dog)}, Test dogs: {len(test_dog)}\")\n",
        "print(f\"Train total: {len(train_images)}, Test total: {len(test_images)}\")"
      ]
    },
    {
      "cell_type": "code",
      "execution_count": null,
      "metadata": {
        "id": "zMO_6nuDXFm3"
      },
      "outputs": [],
      "source": [
        "# Delete the file if you want to change split (Must uncomment line below)\n",
        "# os.remove(assignment_directory + 'split_data.pkl')"
      ]
    },
    {
      "cell_type": "markdown",
      "metadata": {
        "id": "z8gr8LWvalHf"
      },
      "source": [
        "## Model 1 (Pre-made Augmentation)"
      ]
    },
    {
      "cell_type": "markdown",
      "metadata": {
        "id": "IyGpKrobttga"
      },
      "source": [
        "#### Define the Data Frame"
      ]
    },
    {
      "cell_type": "code",
      "execution_count": null,
      "metadata": {
        "colab": {
          "base_uri": "https://localhost:8080/"
        },
        "id": "ekWP0hqxtYGr",
        "outputId": "5a3fac70-0f6f-4d27-cadd-841dc9710c42"
      },
      "outputs": [
        {
          "name": "stdout",
          "output_type": "stream",
          "text": [
            "                                            filename label\n",
            "0  /content/drive/My Drive/2025 Fall/Applied AI (...   cat\n",
            "1  /content/drive/My Drive/2025 Fall/Applied AI (...   cat\n",
            "2  /content/drive/My Drive/2025 Fall/Applied AI (...   cat\n",
            "3  /content/drive/My Drive/2025 Fall/Applied AI (...   cat\n",
            "4  /content/drive/My Drive/2025 Fall/Applied AI (...   cat\n",
            "                                            filename label\n",
            "0  /content/drive/My Drive/2025 Fall/Applied AI (...   cat\n",
            "1  /content/drive/My Drive/2025 Fall/Applied AI (...   cat\n",
            "2  /content/drive/My Drive/2025 Fall/Applied AI (...   cat\n",
            "3  /content/drive/My Drive/2025 Fall/Applied AI (...   cat\n",
            "4  /content/drive/My Drive/2025 Fall/Applied AI (...   cat\n"
          ]
        }
      ],
      "source": [
        "# Training dataframe\n",
        "train_df_1 = pd.DataFrame({\n",
        "  \"filename\": train_cat + train_dog,\n",
        "  \"label\":    [\"cat\"] * len(train_cat) + [\"dog\"] * len(train_dog)\n",
        "})\n",
        "\n",
        "# Testing dataframe\n",
        "test_df_1 = pd.DataFrame({\n",
        "  \"filename\": test_cat + test_dog,\n",
        "  \"label\":    [\"cat\"] * len(test_cat) + [\"dog\"] * len(test_dog)\n",
        "})\n",
        "\n",
        "print(train_df_1.head())\n",
        "print(test_df_1.head())"
      ]
    },
    {
      "cell_type": "markdown",
      "metadata": {
        "id": "kLo_Vgqwtw8g"
      },
      "source": [
        "#### Define the augmentation (Normalize both sets to [-1,1] and just the training set with brightness 30%, zoom 10%, and random rotation 10%)"
      ]
    },
    {
      "cell_type": "markdown",
      "metadata": {
        "id": "xHxErtxewDse"
      },
      "source": [
        "Define Image Data Generators for Testing and Training Data (Defines Augments)"
      ]
    },
    {
      "cell_type": "code",
      "execution_count": null,
      "metadata": {
        "id": "T8ctBCS-t3Ff"
      },
      "outputs": [],
      "source": [
        "train_datagenerator = ImageDataGenerator(\n",
        "  rotation_range=10,\n",
        "  zoom_range=0.1,\n",
        "  brightness_range=[0.7, 1.3],\n",
        "  preprocessing_function=preprocess_input\n",
        ")\n",
        "\n",
        "test_datagenerator = ImageDataGenerator(\n",
        "  preprocessing_function=preprocess_input\n",
        ")"
      ]
    },
    {
      "cell_type": "markdown",
      "metadata": {
        "id": "IrOoDzGkwJd6"
      },
      "source": [
        "Define Generators for Testing and Training Data (Makes the Batches of Images)"
      ]
    },
    {
      "cell_type": "code",
      "execution_count": null,
      "metadata": {
        "colab": {
          "base_uri": "https://localhost:8080/"
        },
        "id": "hmWDsDpvwfNf",
        "outputId": "3c42b62b-0e48-44e0-a5a9-531cf994848c"
      },
      "outputs": [
        {
          "name": "stdout",
          "output_type": "stream",
          "text": [
            "Found 18750 validated image filenames belonging to 2 classes.\n",
            "Found 6250 validated image filenames belonging to 2 classes.\n"
          ]
        }
      ],
      "source": [
        "res = (112, 112)\n",
        "batch_size = 32\n",
        "\n",
        "# Training loader\n",
        "train_generator = train_datagenerator.flow_from_dataframe(\n",
        "    dataframe=train_df_1,\n",
        "    x_col=\"filename\",\n",
        "    y_col=\"label\",\n",
        "    target_size=res,\n",
        "    batch_size=batch_size,\n",
        "    class_mode=\"binary\",\n",
        "    shuffle=True,\n",
        "    dtype=\"float32\",\n",
        "    color_mode=\"rgb\"\n",
        ")\n",
        "\n",
        "# Testing loader\n",
        "test_generator = test_datagenerator.flow_from_dataframe(\n",
        "    dataframe=test_df_1,\n",
        "    x_col=\"filename\",\n",
        "    y_col=\"label\",\n",
        "    target_size=res,\n",
        "    batch_size=batch_size,\n",
        "    class_mode=\"binary\",\n",
        "    shuffle=False,\n",
        "    dtype=\"float32\",\n",
        "    color_mode=\"rgb\"\n",
        ")\n"
      ]
    },
    {
      "cell_type": "markdown",
      "metadata": {
        "id": "NrjRkIXIyTls"
      },
      "source": [
        "#### Define the model"
      ]
    },
    {
      "cell_type": "markdown",
      "metadata": {
        "id": "zBeq3kN9vCft"
      },
      "source": [
        " Define the MobileNetV2 Model"
      ]
    },
    {
      "cell_type": "code",
      "execution_count": null,
      "metadata": {
        "colab": {
          "base_uri": "https://localhost:8080/"
        },
        "id": "-8Ux1I7eyLtK",
        "outputId": "0737b9c3-2c49-4daf-eaa7-87c8dcb5eac3"
      },
      "outputs": [
        {
          "name": "stderr",
          "output_type": "stream",
          "text": [
            "/tmp/ipython-input-663986509.py:1: UserWarning: `input_shape` is undefined or non-square, or `rows` is not in [96, 128, 160, 192, 224]. Weights for input shape (224, 224) will be loaded as the default.\n",
            "  mobile_model = MobileNetV2(\n"
          ]
        }
      ],
      "source": [
        "mobile_model = MobileNetV2(\n",
        "    input_shape=(112, 112, 3),\n",
        "    include_top=False,\n",
        "    weights=\"imagenet\"\n",
        ")"
      ]
    },
    {
      "cell_type": "markdown",
      "metadata": {
        "id": "qsFG6MH5y-TC"
      },
      "source": [
        "Add classifier and Compile"
      ]
    },
    {
      "cell_type": "code",
      "execution_count": null,
      "metadata": {
        "id": "0QCy570Cy9ib"
      },
      "outputs": [],
      "source": [
        "model = models.Sequential({\n",
        "    mobile_model,\n",
        "    layers.GlobalAveragePooling2D(),\n",
        "    layers.Dense(1, activation=\"sigmoid\")\n",
        "})\n",
        "\n",
        "model.compile(\n",
        "    optimizer=\"adam\",\n",
        "    loss=\"binary_crossentropy\",\n",
        "    metrics=[\"accuracy\"]\n",
        ")"
      ]
    },
    {
      "cell_type": "markdown",
      "metadata": {
        "id": "IQmE0TYSzPaH"
      },
      "source": [
        "#### Train the model and get results! (Takes 3+ hours on google colab CPU)"
      ]
    },
    {
      "cell_type": "code",
      "execution_count": null,
      "metadata": {
        "id": "EsYviIlEzR8h"
      },
      "outputs": [],
      "source": [
        "csv_logger = CSVLogger('training_log.csv', append=False)\n",
        "\n",
        "history = model.fit(\n",
        "    train_generator,\n",
        "    validation_data=test_generator,\n",
        "    epochs=3,\n",
        "    callbacks=[csv_logger]\n",
        ")"
      ]
    },
    {
      "cell_type": "code",
      "execution_count": null,
      "metadata": {
        "id": "qhnnWnu6_gD5"
      },
      "outputs": [],
      "source": [
        "log_df = pd.read_csv(\"training_log.csv\")\n",
        "print(log_df)\n",
        "\n",
        "# Accuracy\n",
        "plt.plot(log_df[\"epoch\"], log_df[\"accuracy\"], label=\"Train Accuracy\")\n",
        "plt.plot(log_df[\"epoch\"], log_df[\"val_accuracy\"], label=\"Val Accuracy\")\n",
        "plt.xlabel(\"Epoch\")\n",
        "plt.ylabel(\"Accuracy\")\n",
        "plt.legend()\n",
        "plt.show()\n",
        "\n",
        "# Loss\n",
        "plt.plot(log_df[\"epoch\"], log_df[\"loss\"], label=\"Train Loss\")\n",
        "plt.plot(log_df[\"epoch\"], log_df[\"val_loss\"], label=\"Val Loss\")\n",
        "plt.xlabel(\"Epoch\")\n",
        "plt.ylabel(\"Loss\")\n",
        "plt.legend()\n",
        "plt.show()\n"
      ]
    },
    {
      "cell_type": "markdown",
      "metadata": {
        "id": "D3ejZawkaevT"
      },
      "source": [
        "## Model 2 (Custom Augmentation)"
      ]
    },
    {
      "cell_type": "markdown",
      "metadata": {
        "id": "PKE9XO6Kir8B"
      },
      "source": [
        "#### Define the DataFrame"
      ]
    },
    {
      "cell_type": "code",
      "execution_count": 8,
      "metadata": {
        "colab": {
          "base_uri": "https://localhost:8080/",
          "height": 0
        },
        "id": "Om8HKpxXincU",
        "outputId": "701f1dd0-24d6-40f0-dc0c-080132000599"
      },
      "outputs": [
        {
          "name": "stdout",
          "output_type": "stream",
          "text": [
            "                                            filename label\n",
            "0  /content/drive/My Drive/2025 Fall/Applied AI (...   dog\n",
            "1  /content/drive/My Drive/2025 Fall/Applied AI (...   cat\n",
            "2  /content/drive/My Drive/2025 Fall/Applied AI (...   cat\n",
            "3  /content/drive/My Drive/2025 Fall/Applied AI (...   cat\n",
            "4  /content/drive/My Drive/2025 Fall/Applied AI (...   cat\n",
            "                                            filename label\n",
            "0  /content/drive/My Drive/2025 Fall/Applied AI (...   cat\n",
            "1  /content/drive/My Drive/2025 Fall/Applied AI (...   cat\n",
            "2  /content/drive/My Drive/2025 Fall/Applied AI (...   dog\n",
            "3  /content/drive/My Drive/2025 Fall/Applied AI (...   dog\n",
            "4  /content/drive/My Drive/2025 Fall/Applied AI (...   dog\n"
          ]
        }
      ],
      "source": [
        "# Training dataframe\n",
        "train_df_2 = pd.DataFrame({\n",
        "  \"filename\": train_cat + train_dog,\n",
        "  \"label\":    [\"cat\"] * len(train_cat) + [\"dog\"] * len(train_dog)\n",
        "})\n",
        "\n",
        "# Testing dataframe\n",
        "test_df_2 = pd.DataFrame({\n",
        "  \"filename\": test_cat + test_dog,\n",
        "  \"label\":    [\"cat\"] * len(test_cat) + [\"dog\"] * len(test_dog)\n",
        "})\n",
        "\n",
        "train_df_2 = train_df_2.sample(frac=1, random_state=1).reset_index(drop=True)\n",
        "test_df_2  = test_df_2.sample(frac=1, random_state=1).reset_index(drop=True)\n",
        "\n",
        "print(train_df_2.head())\n",
        "print(test_df_2.head())"
      ]
    },
    {
      "cell_type": "markdown",
      "metadata": {
        "id": "9tK1vh7bWmg4"
      },
      "source": [
        "#### Define Augmentation Model 2 (Brightness 15%, Random Flips Horizontally, Desaturation between 50 and 90%)"
      ]
    },
    {
      "cell_type": "markdown",
      "metadata": {
        "id": "tVEUMzX6QdJR"
      },
      "source": [
        "The values for these augments were chosen based on earlier tests and their values, alongside their test accuracy. Another factor that was included was the shape of the accuracy and loss as the epochs go on. For example, a very sporadic test would not be ideal, as it may not learn more with those parameters."
      ]
    },
    {
      "cell_type": "code",
      "execution_count": 34,
      "metadata": {
        "id": "UymkTdw8ciiF"
      },
      "outputs": [],
      "source": [
        "# Write pseudocode for augmentation model 2 that does not use datagenerator (isntead we use a custom function named imageLoader)\n",
        "def imageLoader(filename, label, augment=True):\n",
        "  img = img_load(filename)\n",
        "  # img = img_resize(img)\n",
        "  if augment: # Only for training data\n",
        "    img = img_augment(img)\n",
        "\n",
        "  # tf.print(\"Image shape before norm:\", tf.shape(img))\n",
        "  img = img_resize(img)\n",
        "  img = img_norm(img)\n",
        "  return img, encode_label(label)"
      ]
    },
    {
      "cell_type": "markdown",
      "metadata": {
        "id": "rrOlNgvTlP5S"
      },
      "source": [
        "###### Define subfunctions for augmentation"
      ]
    },
    {
      "cell_type": "code",
      "execution_count": 35,
      "metadata": {
        "id": "jLYLH46rluGm"
      },
      "outputs": [],
      "source": [
        "# Define img_augment\n",
        "def img_augment(img):\n",
        "  img = tf.image.random_brightness(img, 0.5)\n",
        "  img = tf.image.random_flip_left_right(img)\n",
        "  # Write functions for desaturation\n",
        "  img = desaturation(img, lower=0.5, upper=0.9)\n",
        "\n",
        "  return img"
      ]
    },
    {
      "cell_type": "code",
      "execution_count": 36,
      "metadata": {
        "id": "3HTsVs1nkqLc"
      },
      "outputs": [],
      "source": [
        "# Define img_load\n",
        "def img_load(filename):\n",
        "  img = tf.io.read_file(filename)\n",
        "  img = tf.io.decode_jpeg(img, channels=3)\n",
        "\n",
        "  return img"
      ]
    },
    {
      "cell_type": "code",
      "execution_count": 37,
      "metadata": {
        "id": "pziOQ16AlpUZ"
      },
      "outputs": [],
      "source": [
        "# Define img_resize\n",
        "def img_resize(img):\n",
        "  img = tf.image.resize(img, (112, 112))\n",
        "\n",
        "  return img"
      ]
    },
    {
      "cell_type": "code",
      "execution_count": 38,
      "metadata": {
        "id": "licqJa6Una2X"
      },
      "outputs": [],
      "source": [
        "# Define desaturation\n",
        "def desaturation(img, lower=0.45, upper=0.95): # Chose these parameters because I want everything to be semi-desaturated so not 100% (Instead, 95% and 50% away so 45%)\n",
        "  img = tf.cast(img, tf.float32)\n",
        "\n",
        "  # Convert to Grey\n",
        "  img_grey = tf.image.rgb_to_grayscale(img)\n",
        "  img_grey = tf.tile(img_grey, [1, 1, 3])\n",
        "\n",
        "  # Determine random greyscale factor between lower and upper bounds\n",
        "  alpha = tf.random.uniform([], lower, upper)\n",
        "\n",
        "  # Blend the images\n",
        "  img = img_grey * alpha + img * (1 - alpha)\n",
        "  return img"
      ]
    },
    {
      "cell_type": "code",
      "execution_count": 39,
      "metadata": {
        "id": "vl6QoL5xmQAA"
      },
      "outputs": [],
      "source": [
        "# Define img_norm (Scale from [-1, 1])\n",
        "def img_norm(img):\n",
        "  img = tf.cast(img, tf.float32)\n",
        "  img = img / 127.5 - 1.0\n",
        "\n",
        "  return img"
      ]
    },
    {
      "cell_type": "code",
      "execution_count": 40,
      "metadata": {
        "id": "W3LlE7Ibms-a"
      },
      "outputs": [],
      "source": [
        "# Define encode_label\n",
        "def encode_label(label):\n",
        "  return tf.cast(tf.equal(label, \"dog\"), tf.int32)"
      ]
    },
    {
      "cell_type": "markdown",
      "metadata": {
        "id": "bWc3RRbTwbuD"
      },
      "source": [
        "#### Apply the augmentations"
      ]
    },
    {
      "cell_type": "code",
      "execution_count": 41,
      "metadata": {
        "id": "qUPGC2UrnF_Y"
      },
      "outputs": [],
      "source": [
        "# Apply augmentation to training set (this was all written automatically by Colab)\n",
        "train_2 = tf.data.Dataset.from_tensor_slices((train_df_2[\"filename\"], train_df_2[\"label\"]))\n",
        "train_2 = train_2.map(lambda x, y: imageLoader(x, y, augment=True),\n",
        "                        num_parallel_calls=tf.data.AUTOTUNE)\n",
        "train_2 = train_2.shuffle(1000).batch(32).prefetch(tf.data.AUTOTUNE)\n",
        "\n",
        "# Apply resizing to testing set\n",
        "test_2 = tf.data.Dataset.from_tensor_slices((test_df_2[\"filename\"], test_df_2[\"label\"]))\n",
        "test_2 = test_2.map(lambda x, y: imageLoader(x, y, augment=False),\n",
        "                      num_parallel_calls=tf.data.AUTOTUNE)\n",
        "test_2 = test_2.batch(32).prefetch(tf.data.AUTOTUNE)\n"
      ]
    },
    {
      "cell_type": "code",
      "execution_count": null,
      "metadata": {
        "id": "T9kPc54ETV3J"
      },
      "outputs": [],
      "source": [
        "## Make sure we have the right data!\n",
        "# for imgs, labels in train_2.take(1):\n",
        "#     print(\"Labels:\", labels.numpy()[:20])"
      ]
    },
    {
      "cell_type": "markdown",
      "metadata": {
        "id": "ARl9ILykljPG"
      },
      "source": [
        "#### Define the model, train, and get results!"
      ]
    },
    {
      "cell_type": "code",
      "execution_count": 42,
      "metadata": {
        "colab": {
          "base_uri": "https://localhost:8080/",
          "height": 0
        },
        "id": "vvh0Wrl9_lrX",
        "outputId": "dbb54ed2-ef05-4f1b-e79a-0721d766e411"
      },
      "outputs": [
        {
          "name": "stderr",
          "output_type": "stream",
          "text": [
            "/tmp/ipython-input-549011600.py:2: UserWarning: `input_shape` is undefined or non-square, or `rows` is not in [96, 128, 160, 192, 224]. Weights for input shape (224, 224) will be loaded as the default.\n",
            "  base_model = MobileNetV2(input_shape=(112, 112, 3),\n"
          ]
        }
      ],
      "source": [
        "# Define our models\n",
        "base_model = MobileNetV2(input_shape=(112, 112, 3),\n",
        "                         include_top=False,\n",
        "                         weights=\"imagenet\")\n",
        "\n",
        "base_model.trainable = False\n",
        "\n",
        "model = models.Sequential([\n",
        "    base_model,\n",
        "    layers.GlobalAveragePooling2D(),\n",
        "    layers.Dense(1, activation=\"sigmoid\")\n",
        "])"
      ]
    },
    {
      "cell_type": "code",
      "execution_count": 43,
      "metadata": {
        "id": "jj4Kr8DR_nF5"
      },
      "outputs": [],
      "source": [
        "# Choose optimizer + loss function and combine into model\n",
        "model.compile(\n",
        "    optimizer=\"adam\",\n",
        "    loss=\"binary_crossentropy\",\n",
        "    metrics=[\"accuracy\"]\n",
        ")"
      ]
    },
    {
      "cell_type": "code",
      "execution_count": 44,
      "metadata": {
        "id": "-bvMwG6J_x4b"
      },
      "outputs": [],
      "source": [
        "# Used for Internal Tensorboard\n",
        "csv_logger = CSVLogger(\"training_log2.csv\", append=False)"
      ]
    },
    {
      "cell_type": "code",
      "execution_count": 45,
      "metadata": {
        "colab": {
          "base_uri": "https://localhost:8080/",
          "height": 0
        },
        "id": "jd2IT9lC_mUe",
        "outputId": "42b167b6-31f3-437c-e928-6db5f62eab02"
      },
      "outputs": [
        {
          "name": "stdout",
          "output_type": "stream",
          "text": [
            "Epoch 1/10\n",
            "\u001b[1m586/586\u001b[0m \u001b[32m━━━━━━━━━━━━━━━━━━━━\u001b[0m\u001b[37m\u001b[0m \u001b[1m245s\u001b[0m 403ms/step - accuracy: 0.8716 - loss: 0.2946 - val_accuracy: 0.9344 - val_loss: 0.1607\n",
            "Epoch 2/10\n",
            "\u001b[1m586/586\u001b[0m \u001b[32m━━━━━━━━━━━━━━━━━━━━\u001b[0m\u001b[37m\u001b[0m \u001b[1m226s\u001b[0m 378ms/step - accuracy: 0.9236 - loss: 0.1849 - val_accuracy: 0.9507 - val_loss: 0.1232\n",
            "Epoch 3/10\n",
            "\u001b[1m586/586\u001b[0m \u001b[32m━━━━━━━━━━━━━━━━━━━━\u001b[0m\u001b[37m\u001b[0m \u001b[1m256s\u001b[0m 431ms/step - accuracy: 0.9279 - loss: 0.1718 - val_accuracy: 0.9523 - val_loss: 0.1230\n",
            "Epoch 4/10\n",
            "\u001b[1m586/586\u001b[0m \u001b[32m━━━━━━━━━━━━━━━━━━━━\u001b[0m\u001b[37m\u001b[0m \u001b[1m231s\u001b[0m 378ms/step - accuracy: 0.9279 - loss: 0.1718 - val_accuracy: 0.9554 - val_loss: 0.1164\n",
            "Epoch 5/10\n",
            "\u001b[1m586/586\u001b[0m \u001b[32m━━━━━━━━━━━━━━━━━━━━\u001b[0m\u001b[37m\u001b[0m \u001b[1m259s\u001b[0m 434ms/step - accuracy: 0.9334 - loss: 0.1611 - val_accuracy: 0.9509 - val_loss: 0.1261\n",
            "Epoch 6/10\n",
            "\u001b[1m586/586\u001b[0m \u001b[32m━━━━━━━━━━━━━━━━━━━━\u001b[0m\u001b[37m\u001b[0m \u001b[1m289s\u001b[0m 488ms/step - accuracy: 0.9334 - loss: 0.1675 - val_accuracy: 0.9549 - val_loss: 0.1174\n",
            "Epoch 7/10\n",
            "\u001b[1m586/586\u001b[0m \u001b[32m━━━━━━━━━━━━━━━━━━━━\u001b[0m\u001b[37m\u001b[0m \u001b[1m232s\u001b[0m 389ms/step - accuracy: 0.9353 - loss: 0.1595 - val_accuracy: 0.9501 - val_loss: 0.1228\n",
            "Epoch 8/10\n",
            "\u001b[1m586/586\u001b[0m \u001b[32m━━━━━━━━━━━━━━━━━━━━\u001b[0m\u001b[37m\u001b[0m \u001b[1m262s\u001b[0m 439ms/step - accuracy: 0.9283 - loss: 0.1689 - val_accuracy: 0.9496 - val_loss: 0.1312\n",
            "Epoch 9/10\n",
            "\u001b[1m586/586\u001b[0m \u001b[32m━━━━━━━━━━━━━━━━━━━━\u001b[0m\u001b[37m\u001b[0m \u001b[1m249s\u001b[0m 418ms/step - accuracy: 0.9317 - loss: 0.1630 - val_accuracy: 0.9514 - val_loss: 0.1195\n",
            "Epoch 10/10\n",
            "\u001b[1m586/586\u001b[0m \u001b[32m━━━━━━━━━━━━━━━━━━━━\u001b[0m\u001b[37m\u001b[0m \u001b[1m331s\u001b[0m 554ms/step - accuracy: 0.9345 - loss: 0.1586 - val_accuracy: 0.9517 - val_loss: 0.1218\n"
          ]
        }
      ],
      "source": [
        "# Train the model!\n",
        "history = model.fit(\n",
        "    train_2,\n",
        "    validation_data=test_2,\n",
        "    epochs=10,\n",
        "    callbacks=[csv_logger]\n",
        ")\n"
      ]
    },
    {
      "cell_type": "code",
      "execution_count": 46,
      "metadata": {
        "colab": {
          "base_uri": "https://localhost:8080/",
          "height": 881
        },
        "id": "OLlduAbK_zrm",
        "outputId": "8b565bf8-105d-431d-f4a8-3a36971cb255"
      },
      "outputs": [
        {
          "data": {
            "image/png": "[encoded data removed]",
            "text/plain": [
              "<Figure size 640x480 with 1 Axes>"
            ]
          },
          "metadata": {},
          "output_type": "display_data"
        },
        {
          "data": {
            "image/png": "[encoded data removed]",
            "text/plain": [
              "<Figure size 640x480 with 1 Axes>"
            ]
          },
          "metadata": {},
          "output_type": "display_data"
        }
      ],
      "source": [
        "# Make Tensorboard\n",
        "log_2 = pd.read_csv(\"training_log2.csv\")\n",
        "\n",
        "# Accuracy\n",
        "plt.plot(log_2[\"epoch\"], log_2[\"accuracy\"], label=\"Train Accuracy\")\n",
        "plt.plot(log_2[\"epoch\"], log_2[\"val_accuracy\"], label=\"Val Accuracy\")\n",
        "plt.xlabel(\"Epoch\")\n",
        "plt.ylabel(\"Accuracy\")\n",
        "plt.legend()\n",
        "plt.show()\n",
        "\n",
        "# Loss\n",
        "plt.plot(log_2[\"epoch\"], log_2[\"loss\"], label=\"Train Loss\")\n",
        "plt.plot(log_2[\"epoch\"], log_2[\"val_loss\"], label=\"Val Loss\")\n",
        "plt.xlabel(\"Epoch\")\n",
        "plt.ylabel(\"Loss\")\n",
        "plt.legend()\n",
        "plt.show()\n",
        "\n"
      ]
    }
  ],
  "metadata": {
    "colab": {
      "collapsed_sections": [
        "msO7xWkXzhfc",
        "gmmYwpxDzkMe",
        "LVdNLJr51Eu_",
        "qynFZ4U5IZ4o",
        "zGjyCpXFWz6b",
        "z8gr8LWvalHf",
        "IyGpKrobttga",
        "kLo_Vgqwtw8g",
        "NrjRkIXIyTls",
        "IQmE0TYSzPaH",
        "PKE9XO6Kir8B",
        "9tK1vh7bWmg4",
        "bWc3RRbTwbuD",
        "ARl9ILykljPG"
      ],
      "provenance": []
    },
    "kernelspec": {
      "display_name": "Python 3",
      "name": "python3"
    },
    "language_info": {
      "name": "python"
    }
  },
  "nbformat": 4,
  "nbformat_minor": 0
}
